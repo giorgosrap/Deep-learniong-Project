{
 "cells": [
  {
   "cell_type": "code",
   "execution_count": 2,
   "metadata": {},
   "outputs": [
    {
     "name": "stderr",
     "output_type": "stream",
     "text": [
      "c:\\Users\\giorg\\OneDrive\\Υπολογιστής\\DL Project\\dlenv\\Lib\\site-packages\\sentence_transformers\\cross_encoder\\CrossEncoder.py:11: TqdmWarning: IProgress not found. Please update jupyter and ipywidgets. See https://ipywidgets.readthedocs.io/en/stable/user_install.html\n",
      "  from tqdm.autonotebook import tqdm, trange\n"
     ]
    }
   ],
   "source": [
    "import pandas as pd\n",
    "from sentence_transformers import SentenceTransformer\n",
    "from sklearn.cluster import KMeans\n",
    "import numpy as np\n",
    "import os\n",
    "directory = 'C:\\\\Users\\\\giorg\\\\OneDrive\\\\Υπολογιστής\\\\DL Project'\n",
    "os.chdir(directory)\n"
   ]
  },
  {
   "cell_type": "code",
   "execution_count": 5,
   "metadata": {},
   "outputs": [
    {
     "name": "stderr",
     "output_type": "stream",
     "text": [
      "<>:5: SyntaxWarning: invalid escape sequence '\\E'\n",
      "<>:6: SyntaxWarning: invalid escape sequence '\\T'\n",
      "<>:5: SyntaxWarning: invalid escape sequence '\\E'\n",
      "<>:6: SyntaxWarning: invalid escape sequence '\\T'\n",
      "C:\\Users\\giorg\\AppData\\Local\\Temp\\ipykernel_18828\\1434861830.py:5: SyntaxWarning: invalid escape sequence '\\E'\n",
      "  df1 = pd.read_csv('Audioset\\Eval.csv')\n",
      "C:\\Users\\giorg\\AppData\\Local\\Temp\\ipykernel_18828\\1434861830.py:6: SyntaxWarning: invalid escape sequence '\\T'\n",
      "  df2 = pd.read_csv('Audioset\\Train.csv')\n",
      "c:\\Users\\giorg\\OneDrive\\Υπολογιστής\\DL Project\\dlenv\\Lib\\site-packages\\huggingface_hub\\file_download.py:1132: FutureWarning: `resume_download` is deprecated and will be removed in version 1.0.0. Downloads always resume when possible. If you want to force a new download, use `force_download=True`.\n",
      "  warnings.warn(\n"
     ]
    }
   ],
   "source": [
    "\"\"\"\n",
    "This script is for word embeding and majority voting\n",
    "\n",
    "\"\"\"\n",
    "df1 = pd.read_csv('Audioset\\Eval.csv')\n",
    "df2 = pd.read_csv('Audioset\\Train.csv')\n",
    "# Concatenate the two DataFrames\n",
    "df = pd.concat([df1, df2], ignore_index=True)\n",
    "# Step 2: Prepare data for clustering\n",
    "labels = []\n",
    "file_names = []\n",
    "for index, row in df.iterrows():\n",
    "    label_names = row['Labels'].split(',')  # Split label_names by comma\n",
    "    file_name = row['Filename']\n",
    "    for label in label_names:\n",
    "        labels.append(label.strip())  # Remove leading/trailing whitespaces\n",
    "        file_names.append(file_name)\n",
    "\n",
    "# Step 3: Generate Embeddings for each word\n",
    "model = SentenceTransformer('paraphrase-MiniLM-L6-v2')\n",
    "embeddings = model.encode(labels)\n",
    "np.save('Audioset\\embeddings.npy', embeddings)\n"
   ]
  },
  {
   "cell_type": "code",
   "execution_count": 38,
   "metadata": {},
   "outputs": [
    {
     "name": "stderr",
     "output_type": "stream",
     "text": [
      "<>:6: SyntaxWarning: invalid escape sequence '\\e'\n",
      "<>:6: SyntaxWarning: invalid escape sequence '\\e'\n",
      "C:\\Users\\giorg\\AppData\\Local\\Temp\\ipykernel_18828\\1430957654.py:6: SyntaxWarning: invalid escape sequence '\\e'\n",
      "  embeddings = np.load('Audioset\\embeddings.npy')\n"
     ]
    }
   ],
   "source": [
    "\"\"\" \n",
    "\n",
    "define clusters here maybe we need alitle tuning but the results are  lets say good\n",
    "\n",
    "\"\"\"\n",
    "embeddings = np.load('Audioset\\embeddings.npy')\n",
    "# Step 4: Cluster the Embeddings using KMeans\n",
    "n_clusters = 10 # Number of clusters\n",
    "kmeans = KMeans(n_clusters=n_clusters, random_state=42)\n",
    "clusters = kmeans.fit_predict(embeddings)\n",
    "\n",
    "# Step 5: Find the majority cluster for each file\n",
    "file_cluster = {}\n",
    "for file_name, cluster in zip(file_names, clusters):\n",
    "    if file_name not in file_cluster:\n",
    "        file_cluster[file_name] = {}\n",
    "    if cluster not in file_cluster[file_name]:\n",
    "        file_cluster[file_name][cluster] = 0\n",
    "    file_cluster[file_name][cluster] += 1\n",
    "\n",
    "# Assign each file to the cluster with the majority of labels\n",
    "file_cluster_majority = {file_name: max(cluster_dict, key=cluster_dict.get) for file_name, cluster_dict in file_cluster.items()}\n",
    "\n",
    "# Step 6: Create DataFrame with file names and corresponding clusters\n",
    "file_cluster_df = pd.DataFrame.from_dict(file_cluster_majority, orient='index', columns=['cluster']).reset_index()\n",
    "file_cluster_df.columns = ['Filename', 'cluster']\n",
    "# Save the file names and corresponding clusters to a new CSV file\n",
    "merged_df = pd.merge(df,file_cluster_df, left_on='Filename', right_on='Filename', how='inner')\n",
    "merged_df = merged_df.sort_values(by='cluster')\n",
    "merged_df['cluster'] = 'class_' + (merged_df['cluster'] + 1).astype(str)\n"
   ]
  },
  {
   "cell_type": "code",
   "execution_count": 39,
   "metadata": {},
   "outputs": [
    {
     "name": "stdout",
     "output_type": "stream",
     "text": [
      "Unique values in 'Cluster' column and their counts:\n",
      "cluster\n",
      "class_9     6209\n",
      "class_7     6016\n",
      "class_2     5923\n",
      "class_10    5027\n",
      "class_4     3439\n",
      "class_5     2664\n",
      "class_1     1958\n",
      "class_6     1662\n",
      "class_3     1090\n",
      "class_8      412\n",
      "Name: count, dtype: int64\n"
     ]
    }
   ],
   "source": [
    "cluster_counts = merged_df['cluster'].value_counts()\n",
    "\n",
    "print(\"Unique values in 'Cluster' column and their counts:\")\n",
    "print(cluster_counts)"
   ]
  },
  {
   "cell_type": "code",
   "execution_count": 17,
   "metadata": {},
   "outputs": [
    {
     "name": "stderr",
     "output_type": "stream",
     "text": [
      "<>:1: SyntaxWarning: invalid escape sequence '\\C'\n",
      "<>:2: SyntaxWarning: invalid escape sequence '\\C'\n",
      "<>:1: SyntaxWarning: invalid escape sequence '\\C'\n",
      "<>:2: SyntaxWarning: invalid escape sequence '\\C'\n",
      "C:\\Users\\giorg\\AppData\\Local\\Temp\\ipykernel_6800\\318386497.py:1: SyntaxWarning: invalid escape sequence '\\C'\n",
      "  df1 = pd.read_csv('Audioset\\CSVs\\T_Labels.csv')\n",
      "C:\\Users\\giorg\\AppData\\Local\\Temp\\ipykernel_6800\\318386497.py:2: SyntaxWarning: invalid escape sequence '\\C'\n",
      "  df2 = pd.read_csv('Audioset\\CSVs\\E_Labels.csv')\n"
     ]
    }
   ],
   "source": [
    "df1 = pd.read_csv('Audioset\\CSVs\\T_Labels.csv')\n",
    "df2 = pd.read_csv('Audioset\\CSVs\\E_Labels.csv')\n",
    "df = pd.read_csv(\"C:\\\\Users\\\\giorg\\\\Downloads\\\\categorized_files.csv\")\n",
    "\n",
    "df = df.sort_values(by='Category')\n",
    "\n",
    "# Join the DataFrames using a common column\n",
    "join_1 = pd.merge(df1, df, on='Filename', suffixes=('', '_right'))\n",
    "join_1 = join_1.drop(columns=['Labels_right', 'cluster'])\n",
    "\n",
    "join_2 = pd.merge(df2, df, on='Filename', suffixes=('', '_right'))\n",
    "join_2 = join_2.drop(columns=['Labels_right', 'cluster'])\n",
    "\n",
    "# Save the merged DataFrames to new CSV files\n",
    "join_1.to_csv(os.path.join('Audioset', 'GPTTrain.csv'), index=False)\n",
    "join_2.to_csv(os.path.join('Audioset', 'GPTEval.csv'), index=False)"
   ]
  },
  {
   "cell_type": "code",
   "execution_count": 3,
   "metadata": {},
   "outputs": [
    {
     "name": "stdout",
     "output_type": "stream",
     "text": [
      "Unique values in 'Cluster' column and their counts:\n",
      "Category\n",
      "Miscellaneous              5838\n",
      "Human Sounds               4731\n",
      "Musical Instruments        3860\n",
      "Animal Sounds              1247\n",
      "Environmental Sounds        962\n",
      "Vehicle Sounds              899\n",
      "Machine and Tool Sounds     220\n",
      "Impact Sounds                76\n",
      "Name: count, dtype: int64\n"
     ]
    },
    {
     "name": "stderr",
     "output_type": "stream",
     "text": [
      "<>:1: SyntaxWarning: invalid escape sequence '\\G'\n",
      "<>:1: SyntaxWarning: invalid escape sequence '\\G'\n",
      "C:\\Users\\giorg\\AppData\\Local\\Temp\\ipykernel_21824\\197808817.py:1: SyntaxWarning: invalid escape sequence '\\G'\n",
      "  df = pd.read_csv('Audioset\\GPTTrain.csv')\n"
     ]
    }
   ],
   "source": [
    "df = pd.read_csv('Audioset\\GPTTrain.csv')\n",
    "cluster_counts = df['Category'].value_counts()\n",
    "\n",
    "print(\"Unique values in 'Cluster' column and their counts:\")\n",
    "print(cluster_counts)"
   ]
  },
  {
   "cell_type": "code",
   "execution_count": 4,
   "metadata": {},
   "outputs": [
    {
     "name": "stdout",
     "output_type": "stream",
     "text": [
      "Unique values in 'Cluster' column and their counts:\n",
      "Category\n",
      "Miscellaneous              5314\n",
      "Human Sounds               4380\n",
      "Musical Instruments        3493\n",
      "Animal Sounds              1230\n",
      "Environmental Sounds        981\n",
      "Vehicle Sounds              859\n",
      "Machine and Tool Sounds     238\n",
      "Impact Sounds                72\n",
      "Name: count, dtype: int64\n"
     ]
    },
    {
     "name": "stderr",
     "output_type": "stream",
     "text": [
      "<>:1: SyntaxWarning: invalid escape sequence '\\G'\n",
      "<>:1: SyntaxWarning: invalid escape sequence '\\G'\n",
      "C:\\Users\\giorg\\AppData\\Local\\Temp\\ipykernel_21824\\4086195539.py:1: SyntaxWarning: invalid escape sequence '\\G'\n",
      "  df = pd.read_csv('Audioset\\GPTEval.csv')\n"
     ]
    }
   ],
   "source": [
    "df = pd.read_csv('Audioset\\GPTEval.csv')\n",
    "cluster_counts = df['Category'].value_counts()\n",
    "\n",
    "print(\"Unique values in 'Cluster' column and their counts:\")\n",
    "print(cluster_counts)"
   ]
  },
  {
   "cell_type": "code",
   "execution_count": null,
   "metadata": {},
   "outputs": [],
   "source": []
  }
 ],
 "metadata": {
  "kernelspec": {
   "display_name": "dlenv",
   "language": "python",
   "name": "python3"
  },
  "language_info": {
   "codemirror_mode": {
    "name": "ipython",
    "version": 3
   },
   "file_extension": ".py",
   "mimetype": "text/x-python",
   "name": "python",
   "nbconvert_exporter": "python",
   "pygments_lexer": "ipython3",
   "version": "3.12.1"
  }
 },
 "nbformat": 4,
 "nbformat_minor": 2
}
